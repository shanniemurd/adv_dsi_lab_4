{
 "cells": [
  {
   "cell_type": "markdown",
   "metadata": {
    "id": "_NCwQQFkU3v5"
   },
   "source": [
    "### 3. Load Data and Model"
   ]
  },
  {
   "cell_type": "markdown",
   "metadata": {
    "id": "4JI0kZJxpkoK"
   },
   "source": [
    "**[3.1]** Import the pandas and numpy package"
   ]
  },
  {
   "cell_type": "code",
   "execution_count": 1,
   "metadata": {
    "id": "1sXpjWA8pz0q"
   },
   "outputs": [],
   "source": [
    "# Solution\n",
    "import pandas as pd\n",
    "import numpy as np"
   ]
  },
  {
   "cell_type": "markdown",
   "metadata": {
    "id": "R-Zy6Oq8pkuB"
   },
   "source": [
    "**[3.2]** Load the prepared dataset from `data/interim` into a dataframe called `df`\n",
    "\n"
   ]
  },
  {
   "cell_type": "code",
   "execution_count": 2,
   "metadata": {
    "id": "Q1iETWjDftMg"
   },
   "outputs": [],
   "source": [
    "#Solution:\n",
    "df = pd.read_csv('../data/interim/Mall_Customers.csv')"
   ]
  },
  {
   "cell_type": "markdown",
   "metadata": {
    "id": "6WPWzG9ALXLi"
   },
   "source": [
    "**[3.3]** Create a copy of `df` and save it into a variable called `df_cleaned`"
   ]
  },
  {
   "cell_type": "code",
   "execution_count": 3,
   "metadata": {
    "id": "7FSznli5LXXO"
   },
   "outputs": [],
   "source": [
    "# Solution\n",
    "df_cleaned = df.copy()"
   ]
  },
  {
   "cell_type": "markdown",
   "metadata": {
    "id": "2PzSa_orLhSp"
   },
   "source": [
    "**[3.4]** Import `OneHotEncoder` from `sklearn.preprocessing`"
   ]
  },
  {
   "cell_type": "code",
   "execution_count": 4,
   "metadata": {
    "id": "QV38VkD9LheR"
   },
   "outputs": [],
   "source": [
    "# Solution\n",
    "from sklearn.preprocessing import StandardScaler, OneHotEncoder"
   ]
  },
  {
   "cell_type": "markdown",
   "metadata": {
    "id": "-fFn9QvJLrop"
   },
   "source": [
    "**[3.5]** Instantiate a `OneHotEncoder` with `sparse=False` and `drop='first'` and save it to a variable called `ohe`"
   ]
  },
  {
   "cell_type": "code",
   "execution_count": 5,
   "metadata": {
    "id": "Jh4RehkqLrxL"
   },
   "outputs": [],
   "source": [
    "# Solution\n",
    "ohe = OneHotEncoder(sparse=False, drop='first')"
   ]
  },
  {
   "cell_type": "markdown",
   "metadata": {
    "id": "pveQ853nL15m"
   },
   "source": [
    "**[3.6]** Fit and transform the `Gender` feature of `df_cleaned` and replace the data into it"
   ]
  },
  {
   "cell_type": "code",
   "execution_count": 6,
   "metadata": {
    "id": "kf52AHoDL2Cl"
   },
   "outputs": [],
   "source": [
    "# Solution\n",
    "df_cleaned['Gender'] = ohe.fit_transform(df_cleaned[['Gender']])"
   ]
  },
  {
   "cell_type": "markdown",
   "metadata": {
    "id": "vOtjtgFbMHUj"
   },
   "source": [
    "**[3.7]** Import `split_sets_random`, `save_sets` from `src.data.sets`"
   ]
  },
  {
   "cell_type": "code",
   "execution_count": 7,
   "metadata": {
    "id": "f0FX8MAqMHn-"
   },
   "outputs": [],
   "source": [
    "# Solution\n",
    "from src.data.sets import split_sets_random, save_sets"
   ]
  },
  {
   "cell_type": "markdown",
   "metadata": {
    "id": "R2Xh4VI0011j"
   },
   "source": [
    "**[3.8]** Split the data intro training, validation and testing sets with 80-20 ratio"
   ]
  },
  {
   "cell_type": "code",
   "execution_count": 8,
   "metadata": {
    "id": "zO_BPlVf01_w"
   },
   "outputs": [],
   "source": [
    "# Solution\n",
    "X_train, y_train, X_val, y_val, X_test, y_test = split_sets_random(df_cleaned, target_col='Spending Score (1-100)', test_ratio=0.2, to_numpy=False)"
   ]
  },
  {
   "cell_type": "markdown",
   "metadata": {
    "id": "03eevTPl_j8U"
   },
   "source": [
    "**[3.9]** Save the sets into `data/processed` folder"
   ]
  },
  {
   "cell_type": "code",
   "execution_count": 9,
   "metadata": {
    "id": "x_4jPQ6Q_kHI"
   },
   "outputs": [],
   "source": [
    "# Solution\n",
    "save_sets(X_train, y_train, X_val, y_val, X_test, y_test, path='../data/processed/')"
   ]
  },
  {
   "cell_type": "markdown",
   "metadata": {
    "id": "K_m-WMllhVqG"
   },
   "source": [
    "# 4. Configure MLflow"
   ]
  },
  {
   "cell_type": "markdown",
   "metadata": {
    "id": "ImPSPeLcQrS5"
   },
   "source": [
    "**[4.1]** Import mlflow and mlflow.sklearn\n"
   ]
  },
  {
   "cell_type": "code",
   "execution_count": 10,
   "metadata": {
    "id": "hh2wmK9wQrcB"
   },
   "outputs": [],
   "source": [
    "# Solution\n",
    "import mlflow\n",
    "import mlflow.sklearn"
   ]
  },
  {
   "cell_type": "markdown",
   "metadata": {
    "id": "m00Ks05tQsJb"
   },
   "source": [
    "**[4.2]** Set the MLflow Server URI to `http://mlflow:5000` using `.set_tracking_uri()`"
   ]
  },
  {
   "cell_type": "code",
   "execution_count": 11,
   "metadata": {
    "id": "oijeWjaIQsT9"
   },
   "outputs": [],
   "source": [
    "# Solution\n",
    "mlflow.set_tracking_uri('http://mlflow:5000')"
   ]
  },
  {
   "cell_type": "markdown",
   "metadata": {
    "id": "Ao86WklhRj-F"
   },
   "source": [
    "**[4.3]** Define `xgboost_spending` as the MLflow experiment to be used with `.set_experiment()`"
   ]
  },
  {
   "cell_type": "code",
   "execution_count": 12,
   "metadata": {
    "id": "rprce0GGRkKb",
    "outputId": "d2810f37-db43-4ded-8630-c6bf31046403"
   },
   "outputs": [
    {
     "name": "stdout",
     "output_type": "stream",
     "text": [
      "INFO: 'xgboost_spending' does not exist. Creating a new experiment\n"
     ]
    }
   ],
   "source": [
    "# Solution\n",
    "mlflow.set_experiment('xgboost_spending')"
   ]
  },
  {
   "cell_type": "markdown",
   "metadata": {
    "id": "LZFys_bhRtu-"
   },
   "source": [
    "**[4.4]** Start the tracking with Mlflow using `.start_run()`"
   ]
  },
  {
   "cell_type": "code",
   "execution_count": 13,
   "metadata": {
    "id": "3Yn_xbLxRt4y"
   },
   "outputs": [],
   "source": [
    "# Solution\n",
    "run = mlflow.start_run()"
   ]
  },
  {
   "cell_type": "markdown",
   "metadata": {
    "id": "_B01XWRx6eAk"
   },
   "source": [
    "### 5. Train RandomForest and log MLflow"
   ]
  },
  {
   "cell_type": "markdown",
   "metadata": {
    "id": "tCTUtu8e7AoD"
   },
   "source": [
    "**[5.1]** Set a MLflow tag with `model.description` as key and `RandomForest with default hyperparameter` as value using `.set_tag()` "
   ]
  },
  {
   "cell_type": "code",
   "execution_count": 14,
   "metadata": {
    "id": "OHBp0tf27AxZ"
   },
   "outputs": [],
   "source": [
    "# Solution\n",
    "mlflow.set_tag(\"model.description\", \"RandomForest with default hyperparameter\")"
   ]
  },
  {
   "cell_type": "markdown",
   "metadata": {
    "id": "N4NxPMPS7Net"
   },
   "source": [
    "**[5.2]** Set a MLflow tag with `model.version` as key and `0.1` as value using `.set_tag()` "
   ]
  },
  {
   "cell_type": "code",
   "execution_count": 15,
   "metadata": {
    "id": "w54wCkqt7No5"
   },
   "outputs": [],
   "source": [
    "# Solution\n",
    "mlflow.set_tag(\"model.version\", \"0.1\")"
   ]
  },
  {
   "cell_type": "markdown",
   "metadata": {
    "id": "AukHMssg7sJZ"
   },
   "source": [
    "**[5.3]** Turn on automatic logging with sklearn"
   ]
  },
  {
   "cell_type": "code",
   "execution_count": 16,
   "metadata": {
    "id": "1-SUKG6O7spw"
   },
   "outputs": [],
   "source": [
    "# Solution\n",
    "mlflow.sklearn.autolog()"
   ]
  },
  {
   "cell_type": "markdown",
   "metadata": {
    "id": "WdXbVi0fOpls"
   },
   "source": [
    "**[5.4]** Import `RandomForestRegressor` from `sklearn.ensemble` and instantiate it into a variable called `rf1` with `random_state=8`"
   ]
  },
  {
   "cell_type": "code",
   "execution_count": 17,
   "metadata": {
    "id": "ChDcA1weOpue"
   },
   "outputs": [],
   "source": [
    "# Solution\n",
    "from sklearn.ensemble import RandomForestRegressor\n",
    "\n",
    "rf1 = RandomForestRegressor(random_state=8)"
   ]
  },
  {
   "cell_type": "markdown",
   "metadata": {
    "id": "uDKqcL1iO9wh"
   },
   "source": [
    "**[5.5]** Fit the model on the training set"
   ]
  },
  {
   "cell_type": "code",
   "execution_count": 18,
   "metadata": {
    "id": "6sbt7COTO96_",
    "outputId": "93188948-ba7c-4db9-a7f7-9d2c1b029d24"
   },
   "outputs": [
    {
     "name": "stderr",
     "output_type": "stream",
     "text": [
      "2022/03/10 01:38:27 INFO mlflow.utils.autologging_utils: sklearn autologging will track hyperparameters, performance metrics, model artifacts, and lineage information for the current sklearn workflow to the MLflow run with ID '69dc7cc9c1684330ba25da0e01337e5b'\n",
      "2022/03/10 01:38:27 INFO mlflow.utils.autologging_utils: sklearn autologging will track hyperparameters, performance metrics, model artifacts, and lineage information for the current sklearn workflow to the MLflow run with ID '69dc7cc9c1684330ba25da0e01337e5b'\n",
      "2022/03/10 01:38:27 INFO mlflow.utils.autologging_utils: sklearn autologging will track hyperparameters, performance metrics, model artifacts, and lineage information for the current sklearn workflow to the MLflow run with ID '69dc7cc9c1684330ba25da0e01337e5b'\n",
      "2022/03/10 01:38:27 INFO mlflow.utils.autologging_utils: sklearn autologging will track hyperparameters, performance metrics, model artifacts, and lineage information for the current sklearn workflow to the MLflow run with ID '69dc7cc9c1684330ba25da0e01337e5b'\n",
      "2022/03/10 01:38:27 INFO mlflow.utils.autologging_utils: sklearn autologging will track hyperparameters, performance metrics, model artifacts, and lineage information for the current sklearn workflow to the MLflow run with ID '69dc7cc9c1684330ba25da0e01337e5b'\n",
      "2022/03/10 01:38:27 INFO mlflow.utils.autologging_utils: sklearn autologging will track hyperparameters, performance metrics, model artifacts, and lineage information for the current sklearn workflow to the MLflow run with ID '69dc7cc9c1684330ba25da0e01337e5b'\n",
      "2022/03/10 01:38:27 INFO mlflow.utils.autologging_utils: sklearn autologging will track hyperparameters, performance metrics, model artifacts, and lineage information for the current sklearn workflow to the MLflow run with ID '69dc7cc9c1684330ba25da0e01337e5b'\n",
      "2022/03/10 01:38:27 INFO mlflow.utils.autologging_utils: sklearn autologging will track hyperparameters, performance metrics, model artifacts, and lineage information for the current sklearn workflow to the MLflow run with ID '69dc7cc9c1684330ba25da0e01337e5b'\n",
      "2022/03/10 01:38:27 INFO mlflow.utils.autologging_utils: sklearn autologging will track hyperparameters, performance metrics, model artifacts, and lineage information for the current sklearn workflow to the MLflow run with ID '69dc7cc9c1684330ba25da0e01337e5b'\n",
      "2022/03/10 01:38:27 INFO mlflow.utils.autologging_utils: sklearn autologging will track hyperparameters, performance metrics, model artifacts, and lineage information for the current sklearn workflow to the MLflow run with ID '69dc7cc9c1684330ba25da0e01337e5b'\n",
      "2022/03/10 01:38:27 INFO mlflow.utils.autologging_utils: sklearn autologging will track hyperparameters, performance metrics, model artifacts, and lineage information for the current sklearn workflow to the MLflow run with ID '69dc7cc9c1684330ba25da0e01337e5b'\n",
      "2022/03/10 01:38:27 INFO mlflow.utils.autologging_utils: sklearn autologging will track hyperparameters, performance metrics, model artifacts, and lineage information for the current sklearn workflow to the MLflow run with ID '69dc7cc9c1684330ba25da0e01337e5b'\n",
      "2022/03/10 01:38:27 INFO mlflow.utils.autologging_utils: sklearn autologging will track hyperparameters, performance metrics, model artifacts, and lineage information for the current sklearn workflow to the MLflow run with ID '69dc7cc9c1684330ba25da0e01337e5b'\n",
      "2022/03/10 01:38:27 INFO mlflow.utils.autologging_utils: sklearn autologging will track hyperparameters, performance metrics, model artifacts, and lineage information for the current sklearn workflow to the MLflow run with ID '69dc7cc9c1684330ba25da0e01337e5b'\n",
      "2022/03/10 01:38:27 INFO mlflow.utils.autologging_utils: sklearn autologging will track hyperparameters, performance metrics, model artifacts, and lineage information for the current sklearn workflow to the MLflow run with ID '69dc7cc9c1684330ba25da0e01337e5b'\n",
      "2022/03/10 01:38:27 INFO mlflow.utils.autologging_utils: sklearn autologging will track hyperparameters, performance metrics, model artifacts, and lineage information for the current sklearn workflow to the MLflow run with ID '69dc7cc9c1684330ba25da0e01337e5b'\n",
      "2022/03/10 01:38:27 INFO mlflow.utils.autologging_utils: sklearn autologging will track hyperparameters, performance metrics, model artifacts, and lineage information for the current sklearn workflow to the MLflow run with ID '69dc7cc9c1684330ba25da0e01337e5b'\n",
      "2022/03/10 01:38:27 INFO mlflow.utils.autologging_utils: sklearn autologging will track hyperparameters, performance metrics, model artifacts, and lineage information for the current sklearn workflow to the MLflow run with ID '69dc7cc9c1684330ba25da0e01337e5b'\n",
      "2022/03/10 01:38:27 INFO mlflow.utils.autologging_utils: sklearn autologging will track hyperparameters, performance metrics, model artifacts, and lineage information for the current sklearn workflow to the MLflow run with ID '69dc7cc9c1684330ba25da0e01337e5b'\n",
      "2022/03/10 01:38:27 INFO mlflow.utils.autologging_utils: sklearn autologging will track hyperparameters, performance metrics, model artifacts, and lineage information for the current sklearn workflow to the MLflow run with ID '69dc7cc9c1684330ba25da0e01337e5b'\n",
      "2022/03/10 01:38:27 INFO mlflow.utils.autologging_utils: sklearn autologging will track hyperparameters, performance metrics, model artifacts, and lineage information for the current sklearn workflow to the MLflow run with ID '69dc7cc9c1684330ba25da0e01337e5b'\n",
      "2022/03/10 01:38:27 INFO mlflow.utils.autologging_utils: sklearn autologging will track hyperparameters, performance metrics, model artifacts, and lineage information for the current sklearn workflow to the MLflow run with ID '69dc7cc9c1684330ba25da0e01337e5b'\n",
      "2022/03/10 01:38:27 INFO mlflow.utils.autologging_utils: sklearn autologging will track hyperparameters, performance metrics, model artifacts, and lineage information for the current sklearn workflow to the MLflow run with ID '69dc7cc9c1684330ba25da0e01337e5b'\n",
      "2022/03/10 01:38:27 INFO mlflow.utils.autologging_utils: sklearn autologging will track hyperparameters, performance metrics, model artifacts, and lineage information for the current sklearn workflow to the MLflow run with ID '69dc7cc9c1684330ba25da0e01337e5b'\n",
      "2022/03/10 01:38:27 INFO mlflow.utils.autologging_utils: sklearn autologging will track hyperparameters, performance metrics, model artifacts, and lineage information for the current sklearn workflow to the MLflow run with ID '69dc7cc9c1684330ba25da0e01337e5b'\n",
      "2022/03/10 01:38:27 INFO mlflow.utils.autologging_utils: sklearn autologging will track hyperparameters, performance metrics, model artifacts, and lineage information for the current sklearn workflow to the MLflow run with ID '69dc7cc9c1684330ba25da0e01337e5b'\n",
      "2022/03/10 01:38:27 INFO mlflow.utils.autologging_utils: sklearn autologging will track hyperparameters, performance metrics, model artifacts, and lineage information for the current sklearn workflow to the MLflow run with ID '69dc7cc9c1684330ba25da0e01337e5b'\n",
      "2022/03/10 01:38:27 INFO mlflow.utils.autologging_utils: sklearn autologging will track hyperparameters, performance metrics, model artifacts, and lineage information for the current sklearn workflow to the MLflow run with ID '69dc7cc9c1684330ba25da0e01337e5b'\n",
      "2022/03/10 01:38:27 INFO mlflow.utils.autologging_utils: sklearn autologging will track hyperparameters, performance metrics, model artifacts, and lineage information for the current sklearn workflow to the MLflow run with ID '69dc7cc9c1684330ba25da0e01337e5b'\n",
      "2022/03/10 01:38:27 INFO mlflow.utils.autologging_utils: sklearn autologging will track hyperparameters, performance metrics, model artifacts, and lineage information for the current sklearn workflow to the MLflow run with ID '69dc7cc9c1684330ba25da0e01337e5b'\n",
      "2022/03/10 01:38:27 INFO mlflow.utils.autologging_utils: sklearn autologging will track hyperparameters, performance metrics, model artifacts, and lineage information for the current sklearn workflow to the MLflow run with ID '69dc7cc9c1684330ba25da0e01337e5b'\n",
      "2022/03/10 01:38:27 INFO mlflow.utils.autologging_utils: sklearn autologging will track hyperparameters, performance metrics, model artifacts, and lineage information for the current sklearn workflow to the MLflow run with ID '69dc7cc9c1684330ba25da0e01337e5b'\n",
      "2022/03/10 01:38:27 INFO mlflow.utils.autologging_utils: sklearn autologging will track hyperparameters, performance metrics, model artifacts, and lineage information for the current sklearn workflow to the MLflow run with ID '69dc7cc9c1684330ba25da0e01337e5b'\n",
      "2022/03/10 01:38:27 INFO mlflow.utils.autologging_utils: sklearn autologging will track hyperparameters, performance metrics, model artifacts, and lineage information for the current sklearn workflow to the MLflow run with ID '69dc7cc9c1684330ba25da0e01337e5b'\n",
      "2022/03/10 01:38:28 INFO mlflow.utils.autologging_utils: sklearn autologging will track hyperparameters, performance metrics, model artifacts, and lineage information for the current sklearn workflow to the MLflow run with ID '69dc7cc9c1684330ba25da0e01337e5b'\n",
      "2022/03/10 01:38:28 INFO mlflow.utils.autologging_utils: sklearn autologging will track hyperparameters, performance metrics, model artifacts, and lineage information for the current sklearn workflow to the MLflow run with ID '69dc7cc9c1684330ba25da0e01337e5b'\n",
      "2022/03/10 01:38:28 INFO mlflow.utils.autologging_utils: sklearn autologging will track hyperparameters, performance metrics, model artifacts, and lineage information for the current sklearn workflow to the MLflow run with ID '69dc7cc9c1684330ba25da0e01337e5b'\n",
      "2022/03/10 01:38:28 INFO mlflow.utils.autologging_utils: sklearn autologging will track hyperparameters, performance metrics, model artifacts, and lineage information for the current sklearn workflow to the MLflow run with ID '69dc7cc9c1684330ba25da0e01337e5b'\n",
      "2022/03/10 01:38:28 INFO mlflow.utils.autologging_utils: sklearn autologging will track hyperparameters, performance metrics, model artifacts, and lineage information for the current sklearn workflow to the MLflow run with ID '69dc7cc9c1684330ba25da0e01337e5b'\n",
      "2022/03/10 01:38:28 INFO mlflow.utils.autologging_utils: sklearn autologging will track hyperparameters, performance metrics, model artifacts, and lineage information for the current sklearn workflow to the MLflow run with ID '69dc7cc9c1684330ba25da0e01337e5b'\n",
      "2022/03/10 01:38:28 INFO mlflow.utils.autologging_utils: sklearn autologging will track hyperparameters, performance metrics, model artifacts, and lineage information for the current sklearn workflow to the MLflow run with ID '69dc7cc9c1684330ba25da0e01337e5b'\n",
      "2022/03/10 01:38:28 INFO mlflow.utils.autologging_utils: sklearn autologging will track hyperparameters, performance metrics, model artifacts, and lineage information for the current sklearn workflow to the MLflow run with ID '69dc7cc9c1684330ba25da0e01337e5b'\n",
      "2022/03/10 01:38:28 INFO mlflow.utils.autologging_utils: sklearn autologging will track hyperparameters, performance metrics, model artifacts, and lineage information for the current sklearn workflow to the MLflow run with ID '69dc7cc9c1684330ba25da0e01337e5b'\n",
      "2022/03/10 01:38:28 INFO mlflow.utils.autologging_utils: sklearn autologging will track hyperparameters, performance metrics, model artifacts, and lineage information for the current sklearn workflow to the MLflow run with ID '69dc7cc9c1684330ba25da0e01337e5b'\n",
      "2022/03/10 01:38:28 INFO mlflow.utils.autologging_utils: sklearn autologging will track hyperparameters, performance metrics, model artifacts, and lineage information for the current sklearn workflow to the MLflow run with ID '69dc7cc9c1684330ba25da0e01337e5b'\n",
      "2022/03/10 01:38:28 INFO mlflow.utils.autologging_utils: sklearn autologging will track hyperparameters, performance metrics, model artifacts, and lineage information for the current sklearn workflow to the MLflow run with ID '69dc7cc9c1684330ba25da0e01337e5b'\n",
      "2022/03/10 01:38:28 INFO mlflow.utils.autologging_utils: sklearn autologging will track hyperparameters, performance metrics, model artifacts, and lineage information for the current sklearn workflow to the MLflow run with ID '69dc7cc9c1684330ba25da0e01337e5b'\n",
      "2022/03/10 01:38:28 INFO mlflow.utils.autologging_utils: sklearn autologging will track hyperparameters, performance metrics, model artifacts, and lineage information for the current sklearn workflow to the MLflow run with ID '69dc7cc9c1684330ba25da0e01337e5b'\n",
      "2022/03/10 01:38:28 INFO mlflow.utils.autologging_utils: sklearn autologging will track hyperparameters, performance metrics, model artifacts, and lineage information for the current sklearn workflow to the MLflow run with ID '69dc7cc9c1684330ba25da0e01337e5b'\n",
      "2022/03/10 01:38:28 INFO mlflow.utils.autologging_utils: sklearn autologging will track hyperparameters, performance metrics, model artifacts, and lineage information for the current sklearn workflow to the MLflow run with ID '69dc7cc9c1684330ba25da0e01337e5b'\n",
      "2022/03/10 01:38:28 INFO mlflow.utils.autologging_utils: sklearn autologging will track hyperparameters, performance metrics, model artifacts, and lineage information for the current sklearn workflow to the MLflow run with ID '69dc7cc9c1684330ba25da0e01337e5b'\n",
      "2022/03/10 01:38:28 INFO mlflow.utils.autologging_utils: sklearn autologging will track hyperparameters, performance metrics, model artifacts, and lineage information for the current sklearn workflow to the MLflow run with ID '69dc7cc9c1684330ba25da0e01337e5b'\n",
      "2022/03/10 01:38:28 INFO mlflow.utils.autologging_utils: sklearn autologging will track hyperparameters, performance metrics, model artifacts, and lineage information for the current sklearn workflow to the MLflow run with ID '69dc7cc9c1684330ba25da0e01337e5b'\n",
      "2022/03/10 01:38:28 INFO mlflow.utils.autologging_utils: sklearn autologging will track hyperparameters, performance metrics, model artifacts, and lineage information for the current sklearn workflow to the MLflow run with ID '69dc7cc9c1684330ba25da0e01337e5b'\n",
      "2022/03/10 01:38:28 INFO mlflow.utils.autologging_utils: sklearn autologging will track hyperparameters, performance metrics, model artifacts, and lineage information for the current sklearn workflow to the MLflow run with ID '69dc7cc9c1684330ba25da0e01337e5b'\n",
      "2022/03/10 01:38:28 INFO mlflow.utils.autologging_utils: sklearn autologging will track hyperparameters, performance metrics, model artifacts, and lineage information for the current sklearn workflow to the MLflow run with ID '69dc7cc9c1684330ba25da0e01337e5b'\n",
      "2022/03/10 01:38:28 INFO mlflow.utils.autologging_utils: sklearn autologging will track hyperparameters, performance metrics, model artifacts, and lineage information for the current sklearn workflow to the MLflow run with ID '69dc7cc9c1684330ba25da0e01337e5b'\n",
      "2022/03/10 01:38:28 INFO mlflow.utils.autologging_utils: sklearn autologging will track hyperparameters, performance metrics, model artifacts, and lineage information for the current sklearn workflow to the MLflow run with ID '69dc7cc9c1684330ba25da0e01337e5b'\n",
      "2022/03/10 01:38:28 INFO mlflow.utils.autologging_utils: sklearn autologging will track hyperparameters, performance metrics, model artifacts, and lineage information for the current sklearn workflow to the MLflow run with ID '69dc7cc9c1684330ba25da0e01337e5b'\n",
      "2022/03/10 01:38:28 INFO mlflow.utils.autologging_utils: sklearn autologging will track hyperparameters, performance metrics, model artifacts, and lineage information for the current sklearn workflow to the MLflow run with ID '69dc7cc9c1684330ba25da0e01337e5b'\n",
      "2022/03/10 01:38:28 INFO mlflow.utils.autologging_utils: sklearn autologging will track hyperparameters, performance metrics, model artifacts, and lineage information for the current sklearn workflow to the MLflow run with ID '69dc7cc9c1684330ba25da0e01337e5b'\n",
      "2022/03/10 01:38:28 INFO mlflow.utils.autologging_utils: sklearn autologging will track hyperparameters, performance metrics, model artifacts, and lineage information for the current sklearn workflow to the MLflow run with ID '69dc7cc9c1684330ba25da0e01337e5b'\n",
      "2022/03/10 01:38:28 INFO mlflow.utils.autologging_utils: sklearn autologging will track hyperparameters, performance metrics, model artifacts, and lineage information for the current sklearn workflow to the MLflow run with ID '69dc7cc9c1684330ba25da0e01337e5b'\n",
      "2022/03/10 01:38:28 INFO mlflow.utils.autologging_utils: sklearn autologging will track hyperparameters, performance metrics, model artifacts, and lineage information for the current sklearn workflow to the MLflow run with ID '69dc7cc9c1684330ba25da0e01337e5b'\n",
      "2022/03/10 01:38:28 INFO mlflow.utils.autologging_utils: sklearn autologging will track hyperparameters, performance metrics, model artifacts, and lineage information for the current sklearn workflow to the MLflow run with ID '69dc7cc9c1684330ba25da0e01337e5b'\n",
      "2022/03/10 01:38:28 INFO mlflow.utils.autologging_utils: sklearn autologging will track hyperparameters, performance metrics, model artifacts, and lineage information for the current sklearn workflow to the MLflow run with ID '69dc7cc9c1684330ba25da0e01337e5b'\n",
      "2022/03/10 01:38:28 INFO mlflow.utils.autologging_utils: sklearn autologging will track hyperparameters, performance metrics, model artifacts, and lineage information for the current sklearn workflow to the MLflow run with ID '69dc7cc9c1684330ba25da0e01337e5b'\n",
      "2022/03/10 01:38:28 INFO mlflow.utils.autologging_utils: sklearn autologging will track hyperparameters, performance metrics, model artifacts, and lineage information for the current sklearn workflow to the MLflow run with ID '69dc7cc9c1684330ba25da0e01337e5b'\n",
      "2022/03/10 01:38:28 INFO mlflow.utils.autologging_utils: sklearn autologging will track hyperparameters, performance metrics, model artifacts, and lineage information for the current sklearn workflow to the MLflow run with ID '69dc7cc9c1684330ba25da0e01337e5b'\n",
      "2022/03/10 01:38:28 INFO mlflow.utils.autologging_utils: sklearn autologging will track hyperparameters, performance metrics, model artifacts, and lineage information for the current sklearn workflow to the MLflow run with ID '69dc7cc9c1684330ba25da0e01337e5b'\n",
      "2022/03/10 01:38:28 INFO mlflow.utils.autologging_utils: sklearn autologging will track hyperparameters, performance metrics, model artifacts, and lineage information for the current sklearn workflow to the MLflow run with ID '69dc7cc9c1684330ba25da0e01337e5b'\n",
      "2022/03/10 01:38:28 INFO mlflow.utils.autologging_utils: sklearn autologging will track hyperparameters, performance metrics, model artifacts, and lineage information for the current sklearn workflow to the MLflow run with ID '69dc7cc9c1684330ba25da0e01337e5b'\n",
      "2022/03/10 01:38:28 INFO mlflow.utils.autologging_utils: sklearn autologging will track hyperparameters, performance metrics, model artifacts, and lineage information for the current sklearn workflow to the MLflow run with ID '69dc7cc9c1684330ba25da0e01337e5b'\n",
      "2022/03/10 01:38:28 INFO mlflow.utils.autologging_utils: sklearn autologging will track hyperparameters, performance metrics, model artifacts, and lineage information for the current sklearn workflow to the MLflow run with ID '69dc7cc9c1684330ba25da0e01337e5b'\n",
      "2022/03/10 01:38:28 INFO mlflow.utils.autologging_utils: sklearn autologging will track hyperparameters, performance metrics, model artifacts, and lineage information for the current sklearn workflow to the MLflow run with ID '69dc7cc9c1684330ba25da0e01337e5b'\n",
      "2022/03/10 01:38:28 INFO mlflow.utils.autologging_utils: sklearn autologging will track hyperparameters, performance metrics, model artifacts, and lineage information for the current sklearn workflow to the MLflow run with ID '69dc7cc9c1684330ba25da0e01337e5b'\n",
      "2022/03/10 01:38:28 INFO mlflow.utils.autologging_utils: sklearn autologging will track hyperparameters, performance metrics, model artifacts, and lineage information for the current sklearn workflow to the MLflow run with ID '69dc7cc9c1684330ba25da0e01337e5b'\n",
      "2022/03/10 01:38:28 INFO mlflow.utils.autologging_utils: sklearn autologging will track hyperparameters, performance metrics, model artifacts, and lineage information for the current sklearn workflow to the MLflow run with ID '69dc7cc9c1684330ba25da0e01337e5b'\n",
      "2022/03/10 01:38:28 INFO mlflow.utils.autologging_utils: sklearn autologging will track hyperparameters, performance metrics, model artifacts, and lineage information for the current sklearn workflow to the MLflow run with ID '69dc7cc9c1684330ba25da0e01337e5b'\n",
      "2022/03/10 01:38:28 INFO mlflow.utils.autologging_utils: sklearn autologging will track hyperparameters, performance metrics, model artifacts, and lineage information for the current sklearn workflow to the MLflow run with ID '69dc7cc9c1684330ba25da0e01337e5b'\n",
      "2022/03/10 01:38:28 INFO mlflow.utils.autologging_utils: sklearn autologging will track hyperparameters, performance metrics, model artifacts, and lineage information for the current sklearn workflow to the MLflow run with ID '69dc7cc9c1684330ba25da0e01337e5b'\n",
      "2022/03/10 01:38:28 INFO mlflow.utils.autologging_utils: sklearn autologging will track hyperparameters, performance metrics, model artifacts, and lineage information for the current sklearn workflow to the MLflow run with ID '69dc7cc9c1684330ba25da0e01337e5b'\n",
      "2022/03/10 01:38:28 INFO mlflow.utils.autologging_utils: sklearn autologging will track hyperparameters, performance metrics, model artifacts, and lineage information for the current sklearn workflow to the MLflow run with ID '69dc7cc9c1684330ba25da0e01337e5b'\n",
      "2022/03/10 01:38:28 INFO mlflow.utils.autologging_utils: sklearn autologging will track hyperparameters, performance metrics, model artifacts, and lineage information for the current sklearn workflow to the MLflow run with ID '69dc7cc9c1684330ba25da0e01337e5b'\n",
      "2022/03/10 01:38:28 INFO mlflow.utils.autologging_utils: sklearn autologging will track hyperparameters, performance metrics, model artifacts, and lineage information for the current sklearn workflow to the MLflow run with ID '69dc7cc9c1684330ba25da0e01337e5b'\n",
      "2022/03/10 01:38:28 INFO mlflow.utils.autologging_utils: sklearn autologging will track hyperparameters, performance metrics, model artifacts, and lineage information for the current sklearn workflow to the MLflow run with ID '69dc7cc9c1684330ba25da0e01337e5b'\n",
      "2022/03/10 01:38:28 INFO mlflow.utils.autologging_utils: sklearn autologging will track hyperparameters, performance metrics, model artifacts, and lineage information for the current sklearn workflow to the MLflow run with ID '69dc7cc9c1684330ba25da0e01337e5b'\n",
      "2022/03/10 01:38:28 INFO mlflow.utils.autologging_utils: sklearn autologging will track hyperparameters, performance metrics, model artifacts, and lineage information for the current sklearn workflow to the MLflow run with ID '69dc7cc9c1684330ba25da0e01337e5b'\n",
      "2022/03/10 01:38:28 INFO mlflow.utils.autologging_utils: sklearn autologging will track hyperparameters, performance metrics, model artifacts, and lineage information for the current sklearn workflow to the MLflow run with ID '69dc7cc9c1684330ba25da0e01337e5b'\n",
      "2022/03/10 01:38:28 INFO mlflow.utils.autologging_utils: sklearn autologging will track hyperparameters, performance metrics, model artifacts, and lineage information for the current sklearn workflow to the MLflow run with ID '69dc7cc9c1684330ba25da0e01337e5b'\n",
      "2022/03/10 01:38:28 INFO mlflow.utils.autologging_utils: sklearn autologging will track hyperparameters, performance metrics, model artifacts, and lineage information for the current sklearn workflow to the MLflow run with ID '69dc7cc9c1684330ba25da0e01337e5b'\n",
      "2022/03/10 01:38:28 INFO mlflow.utils.autologging_utils: sklearn autologging will track hyperparameters, performance metrics, model artifacts, and lineage information for the current sklearn workflow to the MLflow run with ID '69dc7cc9c1684330ba25da0e01337e5b'\n",
      "2022/03/10 01:38:28 INFO mlflow.utils.autologging_utils: sklearn autologging will track hyperparameters, performance metrics, model artifacts, and lineage information for the current sklearn workflow to the MLflow run with ID '69dc7cc9c1684330ba25da0e01337e5b'\n",
      "2022/03/10 01:38:28 INFO mlflow.utils.autologging_utils: sklearn autologging will track hyperparameters, performance metrics, model artifacts, and lineage information for the current sklearn workflow to the MLflow run with ID '69dc7cc9c1684330ba25da0e01337e5b'\n",
      "2022/03/10 01:38:28 INFO mlflow.utils.autologging_utils: sklearn autologging will track hyperparameters, performance metrics, model artifacts, and lineage information for the current sklearn workflow to the MLflow run with ID '69dc7cc9c1684330ba25da0e01337e5b'\n",
      "2022/03/10 01:38:28 INFO mlflow.utils.autologging_utils: sklearn autologging will track hyperparameters, performance metrics, model artifacts, and lineage information for the current sklearn workflow to the MLflow run with ID '69dc7cc9c1684330ba25da0e01337e5b'\n",
      "2022/03/10 01:38:28 INFO mlflow.utils.autologging_utils: sklearn autologging will track hyperparameters, performance metrics, model artifacts, and lineage information for the current sklearn workflow to the MLflow run with ID '69dc7cc9c1684330ba25da0e01337e5b'\n",
      "2022/03/10 01:38:28 INFO mlflow.utils.autologging_utils: sklearn autologging will track hyperparameters, performance metrics, model artifacts, and lineage information for the current sklearn workflow to the MLflow run with ID '69dc7cc9c1684330ba25da0e01337e5b'\n",
      "2022/03/10 01:38:28 INFO mlflow.utils.autologging_utils: sklearn autologging will track hyperparameters, performance metrics, model artifacts, and lineage information for the current sklearn workflow to the MLflow run with ID '69dc7cc9c1684330ba25da0e01337e5b'\n",
      "2022/03/10 01:38:28 INFO mlflow.utils.autologging_utils: sklearn autologging will track hyperparameters, performance metrics, model artifacts, and lineage information for the current sklearn workflow to the MLflow run with ID '69dc7cc9c1684330ba25da0e01337e5b'\n",
      "2022/03/10 01:38:28 INFO mlflow.utils.autologging_utils: sklearn autologging will track hyperparameters, performance metrics, model artifacts, and lineage information for the current sklearn workflow to the MLflow run with ID '69dc7cc9c1684330ba25da0e01337e5b'\n",
      "2022/03/10 01:38:28 WARNING mlflow.utils.autologging_utils: MLflow issued a warning during sklearn autologging: \"/opt/conda/lib/python3.7/site-packages/mlflow/models/signature.py:123: UserWarning: Hint: Inferred schema contains integer column(s). Integer columns in Python cannot represent missing values. If your input data contains missing values at inference time, it will be encoded as floats and will cause a schema enforcement error. The best way to avoid this problem is to infer the model schema based on a realistic data sample (training dataset) that includes missing values. Alternatively, you can declare integer columns as doubles (float64) whenever these columns may have missing values. See `Handling Integers With Missing Values <https://www.mlflow.org/docs/latest/models.html#handling-integers-with-missing-values>`_ for more details.\"\n"
     ]
    },
    {
     "data": {
      "text/plain": [
       "RandomForestRegressor(bootstrap=True, ccp_alpha=0.0, criterion='mse',\n",
       "                      max_depth=None, max_features='auto', max_leaf_nodes=None,\n",
       "                      max_samples=None, min_impurity_decrease=0.0,\n",
       "                      min_impurity_split=None, min_samples_leaf=1,\n",
       "                      min_samples_split=2, min_weight_fraction_leaf=0.0,\n",
       "                      n_estimators=100, n_jobs=None, oob_score=False,\n",
       "                      random_state=8, verbose=0, warm_start=False)"
      ]
     },
     "execution_count": 18,
     "metadata": {},
     "output_type": "execute_result"
    }
   ],
   "source": [
    "# Solution\n",
    "rf1.fit(X_train, y_train)"
   ]
  },
  {
   "cell_type": "markdown",
   "metadata": {
    "id": "YepWWaUckqJM"
   },
   "source": [
    "**[5.6]** Import `infer_signature` from `mlflow.models.signature`"
   ]
  },
  {
   "cell_type": "code",
   "execution_count": 19,
   "metadata": {
    "id": "2-EfsBmPkqZN"
   },
   "outputs": [],
   "source": [
    "# Solution\n",
    "from mlflow.models.signature import infer_signature"
   ]
  },
  {
   "cell_type": "markdown",
   "metadata": {
    "id": "l1pSWbBskuOn"
   },
   "source": [
    "**[5.7]** Apply `infer_signature()` on the training set and save the results on a variable called `signature` "
   ]
  },
  {
   "cell_type": "code",
   "execution_count": 20,
   "metadata": {
    "id": "HM0czX5yktnh",
    "outputId": "62dc63da-2c3d-40b2-c704-8d171ca86ad9"
   },
   "outputs": [
    {
     "name": "stderr",
     "output_type": "stream",
     "text": [
      "/opt/conda/lib/python3.7/site-packages/mlflow/models/signature.py:124: UserWarning: Hint: Inferred schema contains integer column(s). Integer columns in Python cannot represent missing values. If your input data contains missing values at inference time, it will be encoded as floats and will cause a schema enforcement error. The best way to avoid this problem is to infer the model schema based on a realistic data sample (training dataset) that includes missing values. Alternatively, you can declare integer columns as doubles (float64) whenever these columns may have missing values. See `Handling Integers With Missing Values <https://www.mlflow.org/docs/latest/models.html#handling-integers-with-missing-values>`_ for more details.\n",
      "  outputs = _infer_schema(model_output) if model_output is not None else None\n"
     ]
    }
   ],
   "source": [
    "# Solution\n",
    "signature = infer_signature(X_train, y_train)"
   ]
  },
  {
   "cell_type": "markdown",
   "metadata": {
    "id": "jeHF-poDkwMr"
   },
   "source": [
    "**[5.8]** Log the trained model with its signature to the path `model` and `sklearn-rf-spending` as name "
   ]
  },
  {
   "cell_type": "code",
   "execution_count": 21,
   "metadata": {
    "id": "MekzYrw_kwWZ",
    "outputId": "61ffb7f7-5ac4-4457-f6cc-a9e9e33677dd"
   },
   "outputs": [
    {
     "name": "stderr",
     "output_type": "stream",
     "text": [
      "Successfully registered model 'sklearn-rf-spending'.\n",
      "2022/03/10 01:38:31 INFO mlflow.tracking._model_registry.client: Waiting up to 300 seconds for model version to finish creation.                     Model name: sklearn-rf-spending, version 1\n",
      "Created version '1' of model 'sklearn-rf-spending'.\n"
     ]
    }
   ],
   "source": [
    "mlflow.sklearn.log_model(rf1, artifact_path=\"model\", signature=signature, registered_model_name=\"sklearn-rf-spending\") "
   ]
  },
  {
   "cell_type": "markdown",
   "metadata": {
    "id": "tbVFRDI1Px_a"
   },
   "source": [
    "**[5.9]** Close the MLflow experiment run \n",
    "\n",
    "\n"
   ]
  },
  {
   "cell_type": "code",
   "execution_count": 22,
   "metadata": {
    "id": "dUXnF7dBPyJY"
   },
   "outputs": [],
   "source": [
    "# Solution\n",
    "mlflow.end_run()"
   ]
  },
  {
   "cell_type": "markdown",
   "metadata": {
    "id": "kei4acNIxe4z"
   },
   "source": [
    "**[5.10]** Open and browser and navigate to http://127.0.0.1:5000/#/"
   ]
  },
  {
   "cell_type": "markdown",
   "metadata": {
    "id": "k_GpcBWLxuLN"
   },
   "source": [
    "**[5.11]** Navigate into `xgboost_spending` and select the experiment run"
   ]
  }
 ],
 "metadata": {
  "colab": {
   "collapsed_sections": [],
   "name": "AdvDSI_Lab4_Exercise3_Solutions.ipynb",
   "provenance": []
  },
  "kernelspec": {
   "display_name": "Python 3",
   "language": "python",
   "name": "python3"
  },
  "language_info": {
   "codemirror_mode": {
    "name": "ipython",
    "version": 3
   },
   "file_extension": ".py",
   "mimetype": "text/x-python",
   "name": "python",
   "nbconvert_exporter": "python",
   "pygments_lexer": "ipython3",
   "version": "3.7.6"
  }
 },
 "nbformat": 4,
 "nbformat_minor": 4
}
